{
 "cells": [
  {
   "cell_type": "code",
   "execution_count": 3,
   "metadata": {},
   "outputs": [
    {
     "name": "stdout",
     "output_type": "stream",
     "text": [
      "introduce un valortest\n"
     ]
    }
   ],
   "source": [
    "valor = input(\"introduce un valor\")"
   ]
  },
  {
   "cell_type": "code",
   "execution_count": 13,
   "metadata": {},
   "outputs": [
    {
     "name": "stdout",
     "output_type": "stream",
     "text": [
      "test\n"
     ]
    }
   ],
   "source": [
    "print(valor)"
   ]
  },
  {
   "cell_type": "code",
   "execution_count": 14,
   "metadata": {},
   "outputs": [],
   "source": [
    "#saber si el numero es inmpar o par"
   ]
  },
  {
   "cell_type": "code",
   "execution_count": 15,
   "metadata": {},
   "outputs": [
    {
     "name": "stdout",
     "output_type": "stream",
     "text": [
      "0 es valor par\n",
      "1  es valor inpar\n",
      "2 es valor par\n",
      "3  es valor inpar\n",
      "4 es valor par\n",
      "5  es valor inpar\n",
      "6 es valor par\n",
      "7  es valor inpar\n",
      "8 es valor par\n",
      "9  es valor inpar\n"
     ]
    }
   ],
   "source": [
    "n=0;\n",
    "\n",
    "while(n<10):\n",
    "    if(n%2)==0:\n",
    "     print(n,\"es valor par\")\n",
    "    else:\n",
    "     print(n,\" es valor inpar\")\n",
    "    \n",
    "    n=n+1;\n"
   ]
  },
  {
   "cell_type": "code",
   "execution_count": null,
   "metadata": {},
   "outputs": [],
   "source": [
    "#Identifica el tipo de dato (int, float, string o list) de los siguientes valores literales:\n",
    "\n",
    "\"Hola Mundo\"     \n",
    "[1, 10, 100]      \n",
    "-25              \n",
    "1.167             \n",
    "[\"Hola\", \"Mundo\"] "
   ]
  },
  {
   "cell_type": "code",
   "execution_count": 16,
   "metadata": {},
   "outputs": [
    {
     "name": "stdout",
     "output_type": "stream",
     "text": [
      "50\n",
      "15\n",
      "Hola Mundo\n",
      "Hola Hola \n",
      "3\n",
      "[2, 3]\n",
      "[1, 2, 3, 1, 2, 3]\n"
     ]
    }
   ],
   "source": [
    "#Ejercicio 2 Determina mentalmente (sin programar) el resultado que aparecerá por pantalla en las siguientes operaciones con variables:\n",
    "\n",
    "a = 10\n",
    "b = -5\n",
    "c = \"Hola \"\n",
    "d = [1, 2, 3]\n",
    "\n",
    "print(a * 5)         # 50\n",
    "print(a - b)         # 15\n",
    "print(c + \"Mundo\")   # Hola Mundo\n",
    "print(c * 2)         # Hola Hola \n",
    "print(d[-1])         # 3\n",
    "print(d[1:])         # [2, 3]\n",
    "print(d + d)         # [1, 2, 3, 1, 2, 3]"
   ]
  },
  {
   "cell_type": "code",
   "execution_count": 17,
   "metadata": {},
   "outputs": [
    {
     "name": "stdout",
     "output_type": "stream",
     "text": [
      "La nota media es 6.0\n"
     ]
    }
   ],
   "source": [
    "#Ejercicio 3\n",
    "#El siguiente código pretende realizar una media entre 3 números, pero no funciona correctamente. \n",
    "#¿Eres capaz de identificar el problema y solucionarlo?\n",
    "\n",
    "numero_1 = 9\n",
    "numero_2 = 3\n",
    "numero_3 = 6\n",
    "\n",
    "# Hay que realizar primero la suma de los 3 números antes de dividir\n",
    "media = (numero_1 + numero_2 + numero_3) / 3  \n",
    "print(\"La nota media es\", media)"
   ]
  },
  {
   "cell_type": "code",
   "execution_count": null,
   "metadata": {},
   "outputs": [],
   "source": [
    "#Ejercicio 4\n",
    "#A partir del ejercicio anterior, vamos a suponer que cada número es una nota, y lo que queremos es obtener la nota final. El problema es que cada nota tiene un valor porcentual:\n",
    "\n",
    "#La primera nota vale un 15% del total\n",
    "#La segunda nota vale un 35% del total\n",
    "#La tercera nota vale un 50% del total\n",
    "#Desarrolla un programa para calcular perfectamente la nota final:\n",
    "\n",
    "\n",
    "\n",
    "\n",
    "\n",
    "\n",
    "\n",
    "nota_1 = 10\n",
    "nota_2 = 7\n",
    "nota_3 = 4\n",
    "\n",
    "# Completa el ejercicio aquí\n",
    "\n",
    "# Podemos multiplicar en tanto por 1 cada nota y sumarlas\n",
    "nota_final = nota_1 * 0.15 + nota_2 * 0.35 + nota_3 * 0.50  \n",
    "print(\"La nota final es\", nota_final)\n",
    "\n",
    "\n",
    "\n",
    "\n",
    "\n",
    "\n",
    "\n",
    "\n",
    "\n"
   ]
  },
  {
   "cell_type": "code",
   "execution_count": null,
   "metadata": {},
   "outputs": [],
   "source": [
    "#Ejercicio 5\n",
    "#La siguiente matriz (o lista con listas anidadas) debe cumplir una condición, \n",
    "#y es que en cada fila el cuarto elemento siempre debe ser el resultado de sumar los tres primeros. \n",
    "#¿Eres capaz de modificar las sumas incorrectas utilizando la técnica del slicing?\n",
    "\n",
    "matriz = [ \n",
    "    [1, 1, 1, 3],\n",
    "    [2, 2, 2, 7],\n",
    "    [3, 3, 3, 9],\n",
    "    [4, 4, 4, 13]\n",
    "]\n",
    "\n",
    "# Completa el ejercicio aquí\n",
    "matriz[1][-1] = sum(matriz[1][:-1])\n",
    "matriz[3][-1] = sum(matriz[3][:-1])\n",
    "\n",
    "print(matriz)\n",
    "\n"
   ]
  },
  {
   "cell_type": "code",
   "execution_count": null,
   "metadata": {},
   "outputs": [],
   "source": [
    "#Ejercicio 6\n",
    "#Al realizar una consulta en un registro hemos obtenido una cadena de texto corrupta al revés.\n",
    "#Al parecer contiene el nombre de un alumno y la nota de un exámen. ¿Cómo podríamos formatear\n",
    "#la cadena y conseguir una estructura como la siguiente?\n",
    "\n",
    "\n",
    "cadena = \"zeréP nauJ,01\"\n",
    "\n",
    "# Completa el ejercicio aquí\n",
    "cadena_volteada = cadena[::-1]\n",
    "print(cadena_volteada[3:], \"ha sacado un\", cadena_volteada[:2], \"de nota.\")"
   ]
  },
  {
   "cell_type": "code",
   "execution_count": 18,
   "metadata": {},
   "outputs": [
    {
     "data": {
      "text/plain": [
       "True"
      ]
     },
     "execution_count": 18,
     "metadata": {},
     "output_type": "execute_result"
    }
   ],
   "source": [
    "10 <= 10"
   ]
  },
  {
   "cell_type": "code",
   "execution_count": 21,
   "metadata": {},
   "outputs": [
    {
     "data": {
      "text/plain": [
       "False"
      ]
     },
     "execution_count": 21,
     "metadata": {},
     "output_type": "execute_result"
    }
   ],
   "source": [
    "not True and False\n",
    "\n",
    "\n"
   ]
  },
  {
   "cell_type": "markdown",
   "metadata": {},
   "source": [
    "**1) Realiza un programa que lea 2 números por teclado y determine los siguientes aspectos (es suficiene con mostrar True o False):**\n",
    "* Si los dos números son iguales\n",
    "* Si los dos números son diferentes\n",
    "* Si el primero es mayor que el segundo\n",
    "* Si el segundo es mayor o igual que el primero\n"
   ]
  },
  {
   "cell_type": "code",
   "execution_count": 24,
   "metadata": {},
   "outputs": [
    {
     "name": "stdout",
     "output_type": "stream",
     "text": [
      "Introduce el primer número: 1\n",
      "Introduce el segundo número: 2\n",
      "¿Son iguales?  False\n",
      "¿Son diferentes? True\n",
      "¿El primero es mayor que el segundo? False\n",
      "¿El segundo es mayor o igual que el primero? True\n"
     ]
    }
   ],
   "source": [
    "# Completa el ejercicio aquí\n",
    "n1 = float( input(\"Introduce el primer número: \") )\n",
    "n2 = float( input(\"Introduce el segundo número: \") )\n",
    "\n",
    "print(\"¿Son iguales? \", n1 == n2)\n",
    "print(\"¿Son diferentes?\", n1 != n2)\n",
    "print(\"¿El primero es mayor que el segundo?\", n1 > n2)\n",
    "print(\"¿El segundo es mayor o igual que el primero?\", n1 <= n2)"
   ]
  },
  {
   "cell_type": "markdown",
   "metadata": {},
   "source": [
    "**2) Utilizando operadores lógicos, determina si una cadena de texto introducida por el usuario tiene una longitud mayor o igual que 3 y a su vez es menor que 10 (es suficiene con mostrar True o False):**"
   ]
  },
  {
   "cell_type": "code",
   "execution_count": null,
   "metadata": {},
   "outputs": [],
   "source": [
    "# Completa el ejercicio aquí\n",
    "cadena = input(\"Escribe una cadena: \")\n",
    "print(\"¿La longitud de la cadena es mayor o igual que 3 y menor que 10?\", len(cadena) >= 3 and len(cadena) < 10 )"
   ]
  },
  {
   "cell_type": "markdown",
   "metadata": {},
   "source": [
    "**3) Realiza un programa que cumpla el siguiente algoritmo utilizando siempre que sea posible operadores en asignación:**\n",
    "* Guarda en una variable numero_magico el valor 12345679 (sin el 8)\n",
    "* Lee por pantalla otro numero_usuario, especifica que sea entre 1 y 9 (asegúrate que sea un número entero)\n",
    "* Multiplica el numero_usuario por 9 en sí mismo\n",
    "* Multiplica el numero_magico por el numero_usuario en sí mismo\n",
    "* Finalmente muestra el valor final del numero_magico por pantalla\n"
   ]
  },
  {
   "cell_type": "code",
   "execution_count": null,
   "metadata": {},
   "outputs": [],
   "source": [
    "# Completa el ejercicio aquí\n",
    "numero_magico = 12345679\n",
    "numero_usuario = int(input(\"Introduce un número del 1 al 9: \"))\n",
    "numero_usuario *= 9\n",
    "numero_magico *= numero_usuario\n",
    "print(\"El número mágico es:\", numero_magico)"
   ]
  }
 ],
 "metadata": {
  "kernelspec": {
   "display_name": "Python 3",
   "language": "python",
   "name": "python3"
  },
  "language_info": {
   "codemirror_mode": {
    "name": "ipython",
    "version": 3
   },
   "file_extension": ".py",
   "mimetype": "text/x-python",
   "name": "python",
   "nbconvert_exporter": "python",
   "pygments_lexer": "ipython3",
   "version": "3.7.6"
  }
 },
 "nbformat": 4,
 "nbformat_minor": 4
}
